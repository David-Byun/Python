{
  "nbformat": 4,
  "nbformat_minor": 0,
  "metadata": {
    "colab": {
      "name": "Untitled0.ipynb",
      "provenance": []
    },
    "kernelspec": {
      "name": "python3",
      "display_name": "Python 3"
    },
    "language_info": {
      "name": "python"
    }
  },
  "cells": [
    {
      "cell_type": "code",
      "metadata": {
        "id": "EiOa2E6-S0qc"
      },
      "source": [
        "#Description : This program attempts to optimize a users portfolio using the Efficient Frontier "
      ],
      "execution_count": 1,
      "outputs": []
    },
    {
      "cell_type": "code",
      "metadata": {
        "id": "x_St7Nj3TDdL"
      },
      "source": [
        "#Import the python libraries\n",
        "from pandas_datareader import data as web\n",
        "import pandas as pd\n",
        "import numpy as np\n",
        "from datetime import datetime\n",
        "import matplotlib.pyplot as plt\n",
        "plt.style.use('fivethirtyeight')"
      ],
      "execution_count": 3,
      "outputs": []
    },
    {
      "cell_type": "code",
      "metadata": {
        "id": "oYHc9FCjTfzL"
      },
      "source": [
        "#Get the stock symbols/tickers in the portfolio\n",
        "#FAANG \n",
        "assets = ['FB', 'AMZN', 'AAPL', 'NFLX', 'GOOG']"
      ],
      "execution_count": 4,
      "outputs": []
    },
    {
      "cell_type": "code",
      "metadata": {
        "id": "0pAoHtg1UDCB"
      },
      "source": [
        "#Assign wegihts to the stock. \n",
        "weights = np.array([0.2, 0.2, 0.2, 0.2, 0.2])"
      ],
      "execution_count": 5,
      "outputs": []
    },
    {
      "cell_type": "code",
      "metadata": {
        "id": "8Vf7iLyQUVCs"
      },
      "source": [
        "#Get the stock/portfolio starting date\n",
        "stockStartDate = '2019-03-19'"
      ],
      "execution_count": 6,
      "outputs": []
    },
    {
      "cell_type": "code",
      "metadata": {
        "colab": {
          "base_uri": "https://localhost:8080/",
          "height": 35
        },
        "id": "ALZpeC9TUoTH",
        "outputId": "a71ba38c-299e-4beb-cb8b-0feb0762138f"
      },
      "source": [
        "#Get the stocks ending date (today)\n",
        "today = datetime.today().strftime('%Y-%m-%d')\n",
        "today"
      ],
      "execution_count": 7,
      "outputs": [
        {
          "output_type": "execute_result",
          "data": {
            "application/vnd.google.colaboratory.intrinsic+json": {
              "type": "string"
            },
            "text/plain": [
              "'2021-03-20'"
            ]
          },
          "metadata": {
            "tags": []
          },
          "execution_count": 7
        }
      ]
    },
    {
      "cell_type": "code",
      "metadata": {
        "id": "D8sO5tetU5c4"
      },
      "source": [
        "#Create a dataframe to store the adjusted close price of the stocks\n",
        "df = pd.DataFrame()\n",
        "\n",
        "#Store the adjusted close price of the stock into the df\n",
        "for stock in assets :\n",
        "  df[stock] = web.DataReader(stock, data_source='yahoo', start = stockStartDate, end = today)['Adj Close']"
      ],
      "execution_count": 10,
      "outputs": []
    },
    {
      "cell_type": "code",
      "metadata": {
        "colab": {
          "base_uri": "https://localhost:8080/",
          "height": 450
        },
        "id": "wPG5EOVAVeP8",
        "outputId": "9f2f5477-3033-4528-e260-466f214c29fe"
      },
      "source": [
        "#Show the df \n",
        "df"
      ],
      "execution_count": 11,
      "outputs": [
        {
          "output_type": "execute_result",
          "data": {
            "text/html": [
              "<div>\n",
              "<style scoped>\n",
              "    .dataframe tbody tr th:only-of-type {\n",
              "        vertical-align: middle;\n",
              "    }\n",
              "\n",
              "    .dataframe tbody tr th {\n",
              "        vertical-align: top;\n",
              "    }\n",
              "\n",
              "    .dataframe thead th {\n",
              "        text-align: right;\n",
              "    }\n",
              "</style>\n",
              "<table border=\"1\" class=\"dataframe\">\n",
              "  <thead>\n",
              "    <tr style=\"text-align: right;\">\n",
              "      <th></th>\n",
              "      <th>FB</th>\n",
              "      <th>AMZN</th>\n",
              "      <th>AAPL</th>\n",
              "      <th>NFLX</th>\n",
              "      <th>GOOG</th>\n",
              "    </tr>\n",
              "    <tr>\n",
              "      <th>Date</th>\n",
              "      <th></th>\n",
              "      <th></th>\n",
              "      <th></th>\n",
              "      <th></th>\n",
              "      <th></th>\n",
              "    </tr>\n",
              "  </thead>\n",
              "  <tbody>\n",
              "    <tr>\n",
              "      <th>2019-03-19</th>\n",
              "      <td>161.570007</td>\n",
              "      <td>1761.849976</td>\n",
              "      <td>45.675953</td>\n",
              "      <td>358.779999</td>\n",
              "      <td>1198.849976</td>\n",
              "    </tr>\n",
              "    <tr>\n",
              "      <th>2019-03-20</th>\n",
              "      <td>165.440002</td>\n",
              "      <td>1797.270020</td>\n",
              "      <td>46.075096</td>\n",
              "      <td>375.220001</td>\n",
              "      <td>1223.969971</td>\n",
              "    </tr>\n",
              "    <tr>\n",
              "      <th>2019-03-21</th>\n",
              "      <td>166.080002</td>\n",
              "      <td>1819.260010</td>\n",
              "      <td>47.772057</td>\n",
              "      <td>377.869995</td>\n",
              "      <td>1231.540039</td>\n",
              "    </tr>\n",
              "    <tr>\n",
              "      <th>2019-03-22</th>\n",
              "      <td>164.339996</td>\n",
              "      <td>1764.770020</td>\n",
              "      <td>46.782772</td>\n",
              "      <td>361.010010</td>\n",
              "      <td>1205.500000</td>\n",
              "    </tr>\n",
              "    <tr>\n",
              "      <th>2019-03-25</th>\n",
              "      <td>166.289993</td>\n",
              "      <td>1774.260010</td>\n",
              "      <td>46.217113</td>\n",
              "      <td>366.230011</td>\n",
              "      <td>1193.000000</td>\n",
              "    </tr>\n",
              "    <tr>\n",
              "      <th>...</th>\n",
              "      <td>...</td>\n",
              "      <td>...</td>\n",
              "      <td>...</td>\n",
              "      <td>...</td>\n",
              "      <td>...</td>\n",
              "    </tr>\n",
              "    <tr>\n",
              "      <th>2021-03-15</th>\n",
              "      <td>273.750000</td>\n",
              "      <td>3081.679932</td>\n",
              "      <td>123.989998</td>\n",
              "      <td>520.250000</td>\n",
              "      <td>2066.489990</td>\n",
              "    </tr>\n",
              "    <tr>\n",
              "      <th>2021-03-16</th>\n",
              "      <td>279.279999</td>\n",
              "      <td>3091.860107</td>\n",
              "      <td>125.570000</td>\n",
              "      <td>524.030029</td>\n",
              "      <td>2092.520020</td>\n",
              "    </tr>\n",
              "    <tr>\n",
              "      <th>2021-03-17</th>\n",
              "      <td>284.010010</td>\n",
              "      <td>3135.729980</td>\n",
              "      <td>124.760002</td>\n",
              "      <td>524.440002</td>\n",
              "      <td>2091.080078</td>\n",
              "    </tr>\n",
              "    <tr>\n",
              "      <th>2021-03-18</th>\n",
              "      <td>278.619995</td>\n",
              "      <td>3027.989990</td>\n",
              "      <td>120.529999</td>\n",
              "      <td>504.790009</td>\n",
              "      <td>2036.219971</td>\n",
              "    </tr>\n",
              "    <tr>\n",
              "      <th>2021-03-19</th>\n",
              "      <td>290.109985</td>\n",
              "      <td>3074.959961</td>\n",
              "      <td>119.989998</td>\n",
              "      <td>512.179993</td>\n",
              "      <td>2043.199951</td>\n",
              "    </tr>\n",
              "  </tbody>\n",
              "</table>\n",
              "<p>506 rows × 5 columns</p>\n",
              "</div>"
            ],
            "text/plain": [
              "                    FB         AMZN        AAPL        NFLX         GOOG\n",
              "Date                                                                    \n",
              "2019-03-19  161.570007  1761.849976   45.675953  358.779999  1198.849976\n",
              "2019-03-20  165.440002  1797.270020   46.075096  375.220001  1223.969971\n",
              "2019-03-21  166.080002  1819.260010   47.772057  377.869995  1231.540039\n",
              "2019-03-22  164.339996  1764.770020   46.782772  361.010010  1205.500000\n",
              "2019-03-25  166.289993  1774.260010   46.217113  366.230011  1193.000000\n",
              "...                ...          ...         ...         ...          ...\n",
              "2021-03-15  273.750000  3081.679932  123.989998  520.250000  2066.489990\n",
              "2021-03-16  279.279999  3091.860107  125.570000  524.030029  2092.520020\n",
              "2021-03-17  284.010010  3135.729980  124.760002  524.440002  2091.080078\n",
              "2021-03-18  278.619995  3027.989990  120.529999  504.790009  2036.219971\n",
              "2021-03-19  290.109985  3074.959961  119.989998  512.179993  2043.199951\n",
              "\n",
              "[506 rows x 5 columns]"
            ]
          },
          "metadata": {
            "tags": []
          },
          "execution_count": 11
        }
      ]
    },
    {
      "cell_type": "code",
      "metadata": {
        "colab": {
          "base_uri": "https://localhost:8080/",
          "height": 317
        },
        "id": "-wOe6ZokVj68",
        "outputId": "1c51b13f-40d5-44a2-9710-86ed9b002ced"
      },
      "source": [
        "#Visually show the stock / portfolio\n",
        "title = 'Portfolio Adj. Close Price History'\n",
        "\n",
        "#Get the stocks\n",
        "my_stocks = df\n",
        "\n",
        "#Create and plot the graph\n",
        "for c in my_stocks.columns.values:\n",
        "  plt.plot(my_stocks[c], label = c)\n",
        "\n",
        "plt.title(title)\n",
        "plt.xlabel('Date', fontsize = 10)\n",
        "plt.ylabel('Adj. Price USD ($)', fontsize = 18)\n",
        "plt.legend(my_stocks.columns.values, loc='upper left')\n",
        "plt.show()"
      ],
      "execution_count": 14,
      "outputs": [
        {
          "output_type": "display_data",
          "data": {
            "image/png": "[encoded data removed]",
            "text/plain": [
              "<Figure size 432x288 with 1 Axes>"
            ]
          },
          "metadata": {
            "tags": []
          }
        }
      ]
    },
    {
      "cell_type": "code",
      "metadata": {
        "colab": {
          "base_uri": "https://localhost:8080/",
          "height": 450
        },
        "id": "lnH6hPdTW7Xi",
        "outputId": "ee18f744-f473-4c91-ffe7-64f5cc012cc9"
      },
      "source": [
        "#Show the daily simple return\n",
        "returns = df.pct_change()\n",
        "returns"
      ],
      "execution_count": 15,
      "outputs": [
        {
          "output_type": "execute_result",
          "data": {
            "text/html": [
              "<div>\n",
              "<style scoped>\n",
              "    .dataframe tbody tr th:only-of-type {\n",
              "        vertical-align: middle;\n",
              "    }\n",
              "\n",
              "    .dataframe tbody tr th {\n",
              "        vertical-align: top;\n",
              "    }\n",
              "\n",
              "    .dataframe thead th {\n",
              "        text-align: right;\n",
              "    }\n",
              "</style>\n",
              "<table border=\"1\" class=\"dataframe\">\n",
              "  <thead>\n",
              "    <tr style=\"text-align: right;\">\n",
              "      <th></th>\n",
              "      <th>FB</th>\n",
              "      <th>AMZN</th>\n",
              "      <th>AAPL</th>\n",
              "      <th>NFLX</th>\n",
              "      <th>GOOG</th>\n",
              "    </tr>\n",
              "    <tr>\n",
              "      <th>Date</th>\n",
              "      <th></th>\n",
              "      <th></th>\n",
              "      <th></th>\n",
              "      <th></th>\n",
              "      <th></th>\n",
              "    </tr>\n",
              "  </thead>\n",
              "  <tbody>\n",
              "    <tr>\n",
              "      <th>2019-03-19</th>\n",
              "      <td>NaN</td>\n",
              "      <td>NaN</td>\n",
              "      <td>NaN</td>\n",
              "      <td>NaN</td>\n",
              "      <td>NaN</td>\n",
              "    </tr>\n",
              "    <tr>\n",
              "      <th>2019-03-20</th>\n",
              "      <td>0.023952</td>\n",
              "      <td>0.020104</td>\n",
              "      <td>0.008739</td>\n",
              "      <td>0.045822</td>\n",
              "      <td>0.020953</td>\n",
              "    </tr>\n",
              "    <tr>\n",
              "      <th>2019-03-21</th>\n",
              "      <td>0.003868</td>\n",
              "      <td>0.012235</td>\n",
              "      <td>0.036830</td>\n",
              "      <td>0.007063</td>\n",
              "      <td>0.006185</td>\n",
              "    </tr>\n",
              "    <tr>\n",
              "      <th>2019-03-22</th>\n",
              "      <td>-0.010477</td>\n",
              "      <td>-0.029952</td>\n",
              "      <td>-0.020708</td>\n",
              "      <td>-0.044618</td>\n",
              "      <td>-0.021144</td>\n",
              "    </tr>\n",
              "    <tr>\n",
              "      <th>2019-03-25</th>\n",
              "      <td>0.011866</td>\n",
              "      <td>0.005377</td>\n",
              "      <td>-0.012091</td>\n",
              "      <td>0.014459</td>\n",
              "      <td>-0.010369</td>\n",
              "    </tr>\n",
              "    <tr>\n",
              "      <th>...</th>\n",
              "      <td>...</td>\n",
              "      <td>...</td>\n",
              "      <td>...</td>\n",
              "      <td>...</td>\n",
              "      <td>...</td>\n",
              "    </tr>\n",
              "    <tr>\n",
              "      <th>2021-03-15</th>\n",
              "      <td>0.019933</td>\n",
              "      <td>-0.002528</td>\n",
              "      <td>0.024457</td>\n",
              "      <td>0.004305</td>\n",
              "      <td>0.002216</td>\n",
              "    </tr>\n",
              "    <tr>\n",
              "      <th>2021-03-16</th>\n",
              "      <td>0.020201</td>\n",
              "      <td>0.003303</td>\n",
              "      <td>0.012743</td>\n",
              "      <td>0.007266</td>\n",
              "      <td>0.012596</td>\n",
              "    </tr>\n",
              "    <tr>\n",
              "      <th>2021-03-17</th>\n",
              "      <td>0.016936</td>\n",
              "      <td>0.014189</td>\n",
              "      <td>-0.006451</td>\n",
              "      <td>0.000782</td>\n",
              "      <td>-0.000688</td>\n",
              "    </tr>\n",
              "    <tr>\n",
              "      <th>2021-03-18</th>\n",
              "      <td>-0.018978</td>\n",
              "      <td>-0.034359</td>\n",
              "      <td>-0.033905</td>\n",
              "      <td>-0.037469</td>\n",
              "      <td>-0.026235</td>\n",
              "    </tr>\n",
              "    <tr>\n",
              "      <th>2021-03-19</th>\n",
              "      <td>0.041239</td>\n",
              "      <td>0.015512</td>\n",
              "      <td>-0.004480</td>\n",
              "      <td>0.014640</td>\n",
              "      <td>0.003428</td>\n",
              "    </tr>\n",
              "  </tbody>\n",
              "</table>\n",
              "<p>506 rows × 5 columns</p>\n",
              "</div>"
            ],
            "text/plain": [
              "                  FB      AMZN      AAPL      NFLX      GOOG\n",
              "Date                                                        \n",
              "2019-03-19       NaN       NaN       NaN       NaN       NaN\n",
              "2019-03-20  0.023952  0.020104  0.008739  0.045822  0.020953\n",
              "2019-03-21  0.003868  0.012235  0.036830  0.007063  0.006185\n",
              "2019-03-22 -0.010477 -0.029952 -0.020708 -0.044618 -0.021144\n",
              "2019-03-25  0.011866  0.005377 -0.012091  0.014459 -0.010369\n",
              "...              ...       ...       ...       ...       ...\n",
              "2021-03-15  0.019933 -0.002528  0.024457  0.004305  0.002216\n",
              "2021-03-16  0.020201  0.003303  0.012743  0.007266  0.012596\n",
              "2021-03-17  0.016936  0.014189 -0.006451  0.000782 -0.000688\n",
              "2021-03-18 -0.018978 -0.034359 -0.033905 -0.037469 -0.026235\n",
              "2021-03-19  0.041239  0.015512 -0.004480  0.014640  0.003428\n",
              "\n",
              "[506 rows x 5 columns]"
            ]
          },
          "metadata": {
            "tags": []
          },
          "execution_count": 15
        }
      ]
    },
    {
      "cell_type": "code",
      "metadata": {
        "colab": {
          "base_uri": "https://localhost:8080/",
          "height": 204
        },
        "id": "W2qKHqM5XQo3",
        "outputId": "47dd36a4-cdb9-45af-f7e9-8c3f7cadc0b6"
      },
      "source": [
        "#Create and show the annualized covariance matrix\n",
        "cov_matrix_annual = returns.cov() * 252 \n",
        "cov_matrix_annual"
      ],
      "execution_count": 17,
      "outputs": [
        {
          "output_type": "execute_result",
          "data": {
            "text/html": [
              "<div>\n",
              "<style scoped>\n",
              "    .dataframe tbody tr th:only-of-type {\n",
              "        vertical-align: middle;\n",
              "    }\n",
              "\n",
              "    .dataframe tbody tr th {\n",
              "        vertical-align: top;\n",
              "    }\n",
              "\n",
              "    .dataframe thead th {\n",
              "        text-align: right;\n",
              "    }\n",
              "</style>\n",
              "<table border=\"1\" class=\"dataframe\">\n",
              "  <thead>\n",
              "    <tr style=\"text-align: right;\">\n",
              "      <th></th>\n",
              "      <th>FB</th>\n",
              "      <th>AMZN</th>\n",
              "      <th>AAPL</th>\n",
              "      <th>NFLX</th>\n",
              "      <th>GOOG</th>\n",
              "    </tr>\n",
              "  </thead>\n",
              "  <tbody>\n",
              "    <tr>\n",
              "      <th>FB</th>\n",
              "      <td>0.142007</td>\n",
              "      <td>0.080441</td>\n",
              "      <td>0.101524</td>\n",
              "      <td>0.084775</td>\n",
              "      <td>0.091034</td>\n",
              "    </tr>\n",
              "    <tr>\n",
              "      <th>AMZN</th>\n",
              "      <td>0.080441</td>\n",
              "      <td>0.098231</td>\n",
              "      <td>0.080563</td>\n",
              "      <td>0.084332</td>\n",
              "      <td>0.066469</td>\n",
              "    </tr>\n",
              "    <tr>\n",
              "      <th>AAPL</th>\n",
              "      <td>0.101524</td>\n",
              "      <td>0.080563</td>\n",
              "      <td>0.143718</td>\n",
              "      <td>0.081080</td>\n",
              "      <td>0.084707</td>\n",
              "    </tr>\n",
              "    <tr>\n",
              "      <th>NFLX</th>\n",
              "      <td>0.084775</td>\n",
              "      <td>0.084332</td>\n",
              "      <td>0.081080</td>\n",
              "      <td>0.176204</td>\n",
              "      <td>0.070339</td>\n",
              "    </tr>\n",
              "    <tr>\n",
              "      <th>GOOG</th>\n",
              "      <td>0.091034</td>\n",
              "      <td>0.066469</td>\n",
              "      <td>0.084707</td>\n",
              "      <td>0.070339</td>\n",
              "      <td>0.107930</td>\n",
              "    </tr>\n",
              "  </tbody>\n",
              "</table>\n",
              "</div>"
            ],
            "text/plain": [
              "            FB      AMZN      AAPL      NFLX      GOOG\n",
              "FB    0.142007  0.080441  0.101524  0.084775  0.091034\n",
              "AMZN  0.080441  0.098231  0.080563  0.084332  0.066469\n",
              "AAPL  0.101524  0.080563  0.143718  0.081080  0.084707\n",
              "NFLX  0.084775  0.084332  0.081080  0.176204  0.070339\n",
              "GOOG  0.091034  0.066469  0.084707  0.070339  0.107930"
            ]
          },
          "metadata": {
            "tags": []
          },
          "execution_count": 17
        }
      ]
    },
    {
      "cell_type": "code",
      "metadata": {
        "colab": {
          "base_uri": "https://localhost:8080/"
        },
        "id": "gNwNAWamXrwb",
        "outputId": "282079a0-45a5-476f-8a6a-f5b396a73254"
      },
      "source": [
        "#Calculate the portfolio variance \n",
        "port_variance = np.dot(weights.T, np.dot(cov_matrix_annual, weights))\n",
        "port_variance"
      ],
      "execution_count": 18,
      "outputs": [
        {
          "output_type": "execute_result",
          "data": {
            "text/plain": [
              "0.09274462068006287"
            ]
          },
          "metadata": {
            "tags": []
          },
          "execution_count": 18
        }
      ]
    },
    {
      "cell_type": "code",
      "metadata": {
        "colab": {
          "base_uri": "https://localhost:8080/"
        },
        "id": "CWol6VjSYCum",
        "outputId": "5d94e799-edf3-43b5-d5f1-e8e56129d6d6"
      },
      "source": [
        "# Calculate the portfolio volatillity aka standard deviation\n",
        "port_volatility = np.sqrt(port_variance)\n",
        "port_variance"
      ],
      "execution_count": 19,
      "outputs": [
        {
          "output_type": "execute_result",
          "data": {
            "text/plain": [
              "0.09274462068006287"
            ]
          },
          "metadata": {
            "tags": []
          },
          "execution_count": 19
        }
      ]
    },
    {
      "cell_type": "code",
      "metadata": {
        "colab": {
          "base_uri": "https://localhost:8080/"
        },
        "id": "sIRC78d3YjLb",
        "outputId": "c4cb4049-2242-468a-8f9a-f1d4b443baa2"
      },
      "source": [
        "#Calculate the annual portfolio return\n",
        "portfolioSimpleAnnualReturn = np.sum(returns.mean() * weights) * 252\n",
        "portfolioSimpleAnnualReturn"
      ],
      "execution_count": 20,
      "outputs": [
        {
          "output_type": "execute_result",
          "data": {
            "text/plain": [
              "0.3659743606498814"
            ]
          },
          "metadata": {
            "tags": []
          },
          "execution_count": 20
        }
      ]
    },
    {
      "cell_type": "code",
      "metadata": {
        "colab": {
          "base_uri": "https://localhost:8080/"
        },
        "id": "H3iC-NH2Y4rA",
        "outputId": "04e58ef0-0f66-4a8c-a295-2e333bac06bf"
      },
      "source": [
        "#Show the expected annual return, volatility (risk) and variance\n",
        "percent_var = str(round(port_variance, 2) * 100 ) + '%'\n",
        "percent_vols = str(round(port_volatility, 2) * 100) + '%'\n",
        "percent_ret = str(round(portfolioSimpleAnnualReturn, 2) * 100) + '%'\n",
        "\n",
        "print('Expected annual return : '+ percent_ret)\n",
        "print('Annual volatility / risk : '+ percent_vols)\n",
        "print('Annual variance :' + percent_var)"
      ],
      "execution_count": 23,
      "outputs": [
        {
          "output_type": "stream",
          "text": [
            "Expect annual return : 37.0%\n",
            "Annual volatility / risk : 30.0%\n",
            "Annual variance :9.0%\n"
          ],
          "name": "stdout"
        }
      ]
    },
    {
      "cell_type": "code",
      "metadata": {
        "colab": {
          "base_uri": "https://localhost:8080/"
        },
        "id": "qbDTPZz-Z6_o",
        "outputId": "ed3d514b-0c12-4719-bab0-c06a83b5b0e4"
      },
      "source": [
        "pip install PyPortfolioOpt"
      ],
      "execution_count": 24,
      "outputs": [
        {
          "output_type": "stream",
          "text": [
            "Collecting PyPortfolioOpt\n",
            "\u001b[?25l  Downloading https://files.pythonhosted.org/packages/46/55/7d39d78d554ee33a7317e345caf01339da11406c28f18bc48794fe967935/PyPortfolioOpt-1.4.1-py3-none-any.whl (56kB)\n",
            "\r\u001b[K     |█████▊                          | 10kB 13.9MB/s eta 0:00:01\r\u001b[K     |███████████▌                    | 20kB 7.8MB/s eta 0:00:01\r\u001b[K     |█████████████████▎              | 30kB 8.1MB/s eta 0:00:01\r\u001b[K     |███████████████████████         | 40kB 7.8MB/s eta 0:00:01\r\u001b[K     |████████████████████████████▉   | 51kB 4.5MB/s eta 0:00:01\r\u001b[K     |████████████████████████████████| 61kB 2.6MB/s \n",
            "\u001b[?25hCollecting cvxpy<2.0.0,>=1.1.10\n",
            "\u001b[?25l  Downloading https://files.pythonhosted.org/packages/b5/7e/ec053f8a89f0c380379f9af2066e55fa77adfd5ef7fa63923097b0e2896b/cvxpy-1.1.11.tar.gz (1.3MB)\n",
            "\u001b[K     |████████████████████████████████| 1.3MB 6.1MB/s \n",
            "\u001b[?25h  Installing build dependencies ... \u001b[?25l\u001b[?25hdone\n",
            "  Getting requirements to build wheel ... \u001b[?25l\u001b[?25hdone\n",
            "    Preparing wheel metadata ... \u001b[?25l\u001b[?25hdone\n",
            "Requirement already satisfied: pandas>=0.19 in /usr/local/lib/python3.7/dist-packages (from PyPortfolioOpt) (1.1.5)\n",
            "Requirement already satisfied: numpy<2.0,>=1.12 in /usr/local/lib/python3.7/dist-packages (from PyPortfolioOpt) (1.19.5)\n",
            "Requirement already satisfied: scipy<2.0,>=1.3 in /usr/local/lib/python3.7/dist-packages (from PyPortfolioOpt) (1.4.1)\n",
            "Requirement already satisfied: osqp>=0.4.1 in /usr/local/lib/python3.7/dist-packages (from cvxpy<2.0.0,>=1.1.10->PyPortfolioOpt) (0.6.2.post0)\n",
            "Requirement already satisfied: scs>=1.1.6 in /usr/local/lib/python3.7/dist-packages (from cvxpy<2.0.0,>=1.1.10->PyPortfolioOpt) (2.1.2)\n",
            "Requirement already satisfied: ecos>=2 in /usr/local/lib/python3.7/dist-packages (from cvxpy<2.0.0,>=1.1.10->PyPortfolioOpt) (2.0.7.post1)\n",
            "Requirement already satisfied: pytz>=2017.2 in /usr/local/lib/python3.7/dist-packages (from pandas>=0.19->PyPortfolioOpt) (2018.9)\n",
            "Requirement already satisfied: python-dateutil>=2.7.3 in /usr/local/lib/python3.7/dist-packages (from pandas>=0.19->PyPortfolioOpt) (2.8.1)\n",
            "Requirement already satisfied: qdldl in /usr/local/lib/python3.7/dist-packages (from osqp>=0.4.1->cvxpy<2.0.0,>=1.1.10->PyPortfolioOpt) (0.1.5.post0)\n",
            "Requirement already satisfied: six>=1.5 in /usr/local/lib/python3.7/dist-packages (from python-dateutil>=2.7.3->pandas>=0.19->PyPortfolioOpt) (1.15.0)\n",
            "Building wheels for collected packages: cvxpy\n",
            "  Building wheel for cvxpy (PEP 517) ... \u001b[?25l\u001b[?25hdone\n",
            "  Created wheel for cvxpy: filename=cvxpy-1.1.11-cp37-cp37m-linux_x86_64.whl size=2725555 sha256=c9909c2ba4ffff69f24b745993f96fb60564bdb600d6a6024286a0c78da4684c\n",
            "  Stored in directory: /root/.cache/pip/wheels/df/d4/eb/c74e09a39bc4ac09b3a8d2a48c1c6009f391056d8c87bf68aa\n",
            "Successfully built cvxpy\n",
            "Installing collected packages: cvxpy, PyPortfolioOpt\n",
            "  Found existing installation: cvxpy 1.0.31\n",
            "    Uninstalling cvxpy-1.0.31:\n",
            "      Successfully uninstalled cvxpy-1.0.31\n",
            "Successfully installed PyPortfolioOpt-1.4.1 cvxpy-1.1.11\n"
          ],
          "name": "stdout"
        }
      ]
    },
    {
      "cell_type": "code",
      "metadata": {
        "id": "ggaFc3iuaVCl"
      },
      "source": [
        "from pypfopt.efficient_frontier import EfficientFrontier\n",
        "from pypfopt import risk_models\n",
        "from pypfopt import expected_returns"
      ],
      "execution_count": 25,
      "outputs": []
    },
    {
      "cell_type": "code",
      "metadata": {
        "colab": {
          "base_uri": "https://localhost:8080/"
        },
        "id": "7jY_x-V-ai_l",
        "outputId": "956870a8-b128-4ee4-dd56-ec78abc06b44"
      },
      "source": [
        "#Portfolio Optimization !\n",
        "\n",
        "#Calculate the expected returns and the annualised sample covariance matrix of asset returns\n",
        "mu = expected_returns.mean_historical_return(df)\n",
        "S = risk_models.sample_cov(df)\n",
        "\n",
        "#optimize for max sharpe ratio \n",
        "ef = EfficientFrontier(mu, S)\n",
        "weights = ef.max_sharpe()\n",
        "cleaned_weights = ef.clean_weights()\n",
        "print(cleaned_weights)\n",
        "ef.portfolio_performance(verbose=True)"
      ],
      "execution_count": 29,
      "outputs": [
        {
          "output_type": "stream",
          "text": [
            "OrderedDict([('FB', 0.0), ('AMZN', 0.0), ('AAPL', 1.0), ('NFLX', 0.0), ('GOOG', 0.0)])\n",
            "Expected annual return: 61.9%\n",
            "Annual volatility: 37.9%\n",
            "Sharpe Ratio: 1.58\n"
          ],
          "name": "stdout"
        },
        {
          "output_type": "execute_result",
          "data": {
            "text/plain": [
              "(0.6192481525094253, 0.3791009542800486, 1.5807086364302583)"
            ]
          },
          "metadata": {
            "tags": []
          },
          "execution_count": 29
        }
      ]
    },
    {
      "cell_type": "code",
      "metadata": {
        "colab": {
          "base_uri": "https://localhost:8080/"
        },
        "id": "i9uVwZZIcY6H",
        "outputId": "0a2053ff-2494-449f-aec6-9e244fdae8ff"
      },
      "source": [
        "0.0 + 0.0 + 1.0 + 0.0 + 0.0"
      ],
      "execution_count": 30,
      "outputs": [
        {
          "output_type": "execute_result",
          "data": {
            "text/plain": [
              "1.0"
            ]
          },
          "metadata": {
            "tags": []
          },
          "execution_count": 30
        }
      ]
    },
    {
      "cell_type": "code",
      "metadata": {
        "id": "YIHeD_S9c0b0"
      },
      "source": [
        ""
      ],
      "execution_count": null,
      "outputs": []
    },
    {
      "cell_type": "code",
      "metadata": {
        "colab": {
          "base_uri": "https://localhost:8080/"
        },
        "id": "lzQKIO0FcjS6",
        "outputId": "5e62bb2e-a018-4a74-b0f1-4e37887ee404"
      },
      "source": [
        "#Get the discrete allocation of each share per stock\n",
        "from pypfopt.discrete_allocation import DiscreteAllocation, get_latest_prices\n",
        "\n",
        "latest_prices = get_latest_prices(df)\n",
        "weights = cleaned_weights\n",
        "da = DiscreteAllocation(weights, latest_prices, total_portfolio_value = 150000)\n",
        "\n",
        "allocation, leftover = da.lp_portfolio()\n",
        "print('Discrete allocation :', allocation)\n",
        "print('Funds remaining : ${:.2f}'.format(leftover))\n"
      ],
      "execution_count": 32,
      "outputs": [
        {
          "output_type": "stream",
          "text": [
            "Discrete allocation : {'AAPL': 1250}\n",
            "Funds remaining : $12.50\n"
          ],
          "name": "stdout"
        }
      ]
    }
  ]
}