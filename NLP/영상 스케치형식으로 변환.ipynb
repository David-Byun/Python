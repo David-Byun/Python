{
 "cells": [
  {
   "cell_type": "code",
   "execution_count": 1,
   "metadata": {},
   "outputs": [],
   "source": [
    "import cv2\n",
    "import time\n",
    "import random\n",
    "\n",
    "#이미지 사용 cv2.imread()\n",
    "#영상 사용 cv2.VideoCapture()\n",
    "cap = cv2.VideoCapture('abc.mp4')\n",
    "\n",
    "w = int(cap.get(cv2.CAP_PROP_FRAME_WIDTH))\n",
    "h = int(cap.get(cv2.CAP_PROP_FRAME_HEIGHT))"
   ]
  },
  {
   "cell_type": "code",
   "execution_count": 2,
   "metadata": {},
   "outputs": [],
   "source": [
    "fourcc = cv2.VideoWriter_fourcc('m', 'p', '4', 'v')\n",
    "out = cv2.VideoWriter('output_%s.mp4' %time.time(), fourcc, \n",
    "                      cap.get(cv2.CAP_PROP_FPS) / 2, (w, h))"
   ]
  },
  {
   "cell_type": "code",
   "execution_count": 4,
   "metadata": {},
   "outputs": [],
   "source": [
    "while cap.isOpened():\n",
    "    ret, img = cap.read()\n",
    "    if not ret:\n",
    "        break\n",
    "    \n",
    "    if random.random() > 0.8 :\n",
    "        theta = random.randint(-3,3)\n",
    "        x, y = random.randint(-10, 10), random.randint(-10,10)\n",
    "        #cv2.getRotationMatrix2D() 로테이션 매트릭스를 쉽게 구할수 있도록 도와주는 함수\n",
    "        M = cv2.getRotationMatrix2D(center=(w//2, h//2), angle=theta, scale=1.0)\n",
    "        M[0, 2] += x\n",
    "        M[1, 2] += y\n",
    "        # cv2.wrapAffine 이미지 기하학 변형\n",
    "        img = cv2.warpAffine(img, M=M, dsize=(w,h))\n",
    "    \n",
    "    img = cv2.GaussianBlur(img, ksize=(9,9), sigmaX=0)\n",
    "    \n",
    "    gray, color = cv2.pencilSketch(img, sigma_s=60, sigma_r=0.05, shade_factor=0.015)\n",
    "    \n",
    "    cv2.imshow('gray', gray)\n",
    "    \n",
    "    out.write(cv2.cvtColor(gray, cv2.COLOR_GRAY2BGR))\n",
    "    \n",
    "    if cv2.waitKey(1) == ord('q') :\n",
    "        break\n",
    "    \n",
    "out.release()\n",
    "cap.release()"
   ]
  },
  {
   "cell_type": "code",
   "execution_count": null,
   "metadata": {},
   "outputs": [],
   "source": []
  }
 ],
 "metadata": {
  "kernelspec": {
   "display_name": "Python 3",
   "language": "python",
   "name": "python3"
  },
  "language_info": {
   "codemirror_mode": {
    "name": "ipython",
    "version": 3
   },
   "file_extension": ".py",
   "mimetype": "text/x-python",
   "name": "python",
   "nbconvert_exporter": "python",
   "pygments_lexer": "ipython3",
   "version": "3.8.5"
  }
 },
 "nbformat": 4,
 "nbformat_minor": 4
}
